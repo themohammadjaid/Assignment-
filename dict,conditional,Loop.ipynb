{
 "cells": [
  {
   "cell_type": "code",
   "execution_count": 1,
   "id": "ce68ee13-2b00-4cc1-aaee-e71453030aa1",
   "metadata": {},
   "outputs": [],
   "source": [
    "d = {}"
   ]
  },
  {
   "cell_type": "code",
   "execution_count": 2,
   "id": "1f44c039-7522-4963-a416-5695aae136e5",
   "metadata": {},
   "outputs": [
    {
     "data": {
      "text/plain": [
       "dict"
      ]
     },
     "execution_count": 2,
     "metadata": {},
     "output_type": "execute_result"
    }
   ],
   "source": [
    "type(d)"
   ]
  },
  {
   "cell_type": "code",
   "execution_count": 3,
   "id": "51c57989-cc4c-442a-a301-b6a2cc0bd9f5",
   "metadata": {},
   "outputs": [],
   "source": [
    "d1 = {\"key\" : \"mj\"}"
   ]
  },
  {
   "cell_type": "code",
   "execution_count": 4,
   "id": "760a8209-8d07-4a28-a2e2-337a7f3439ac",
   "metadata": {},
   "outputs": [
    {
     "data": {
      "text/plain": [
       "{'key': 'mj'}"
      ]
     },
     "execution_count": 4,
     "metadata": {},
     "output_type": "execute_result"
    }
   ],
   "source": [
    "d1"
   ]
  },
  {
   "cell_type": "code",
   "execution_count": 5,
   "id": "536d7e26-9c38-431c-8603-d3a4ea85534b",
   "metadata": {},
   "outputs": [],
   "source": [
    "d2 = {'name' : 'mj' , 'email' : 'mhdjaidpattekari@gmail.com' , 'number' : 7620479368 }"
   ]
  },
  {
   "cell_type": "code",
   "execution_count": 6,
   "id": "e4102a74-2675-45c7-9928-79ea18b8c5f4",
   "metadata": {},
   "outputs": [
    {
     "data": {
      "text/plain": [
       "{'name': 'mj', 'email': 'mhdjaidpattekari@gmail.com', 'number': 7620479368}"
      ]
     },
     "execution_count": 6,
     "metadata": {},
     "output_type": "execute_result"
    }
   ],
   "source": [
    "d2"
   ]
  },
  {
   "cell_type": "code",
   "execution_count": 7,
   "id": "a99e20d8-2b2a-4689-be5a-0d61044b8d69",
   "metadata": {},
   "outputs": [],
   "source": [
    "d3 = {234 :\"mj\" , '_wear' : \"pattekari\", True : 24234}"
   ]
  },
  {
   "cell_type": "code",
   "execution_count": 8,
   "id": "59ebfed7-d189-4f1a-81ed-c38c64e7fe87",
   "metadata": {},
   "outputs": [
    {
     "data": {
      "text/plain": [
       "{234: 'mj', '_wear': 'pattekari', True: 24234}"
      ]
     },
     "execution_count": 8,
     "metadata": {},
     "output_type": "execute_result"
    }
   ],
   "source": [
    "d3"
   ]
  },
  {
   "cell_type": "code",
   "execution_count": 9,
   "id": "d523218a-2848-421a-a285-1ab9ca7b286e",
   "metadata": {},
   "outputs": [
    {
     "data": {
      "text/plain": [
       "'mj'"
      ]
     },
     "execution_count": 9,
     "metadata": {},
     "output_type": "execute_result"
    }
   ],
   "source": [
    "d3[234]"
   ]
  },
  {
   "cell_type": "code",
   "execution_count": 10,
   "id": "68609502-1aea-488b-a0ad-e4f860a8edbd",
   "metadata": {},
   "outputs": [
    {
     "data": {
      "text/plain": [
       "24234"
      ]
     },
     "execution_count": 10,
     "metadata": {},
     "output_type": "execute_result"
    }
   ],
   "source": [
    "d3[1]"
   ]
  },
  {
   "cell_type": "code",
   "execution_count": 11,
   "id": "925d950c-6c70-4197-a84f-adde450613ae",
   "metadata": {},
   "outputs": [],
   "source": [
    "d4 = {'name' : 'mj' , 'mail_id' : 'mhdjaidpattekari' , 'name' : 'mohammadjaid'}"
   ]
  },
  {
   "cell_type": "code",
   "execution_count": 12,
   "id": "7975d648-c1cd-496c-b91f-ceae215fdc31",
   "metadata": {},
   "outputs": [
    {
     "data": {
      "text/plain": [
       "'mohammadjaid'"
      ]
     },
     "execution_count": 12,
     "metadata": {},
     "output_type": "execute_result"
    }
   ],
   "source": [
    "d4['name']"
   ]
  },
  {
   "cell_type": "code",
   "execution_count": 13,
   "id": "c4adabe0-ab61-4aba-a97b-8dc95077fccb",
   "metadata": {},
   "outputs": [],
   "source": [
    "d5 = {'company' : 'pwskills' , 'course' : ['data science', 'web dev' , 'java and dsa']}"
   ]
  },
  {
   "cell_type": "code",
   "execution_count": 14,
   "id": "ed873673-600b-470d-9e6a-dd96122dc32c",
   "metadata": {},
   "outputs": [
    {
     "data": {
      "text/plain": [
       "{'company': 'pwskills', 'course': ['data science', 'web dev', 'java and dsa']}"
      ]
     },
     "execution_count": 14,
     "metadata": {},
     "output_type": "execute_result"
    }
   ],
   "source": [
    "d5"
   ]
  },
  {
   "cell_type": "code",
   "execution_count": 15,
   "id": "1803d01d-2b6a-4b68-9224-6765b2df413c",
   "metadata": {},
   "outputs": [
    {
     "data": {
      "text/plain": [
       "['data science', 'web dev', 'java and dsa']"
      ]
     },
     "execution_count": 15,
     "metadata": {},
     "output_type": "execute_result"
    }
   ],
   "source": [
    "d5['course']"
   ]
  },
  {
   "cell_type": "code",
   "execution_count": 16,
   "id": "017b93e2-1f4b-4e65-822c-dcfa941c0a22",
   "metadata": {},
   "outputs": [
    {
     "data": {
      "text/plain": [
       "'java and dsa'"
      ]
     },
     "execution_count": 16,
     "metadata": {},
     "output_type": "execute_result"
    }
   ],
   "source": [
    "d5['course'][2]"
   ]
  },
  {
   "cell_type": "code",
   "execution_count": 17,
   "id": "418ef445-6c48-41a4-9db0-c00f6c4c0d85",
   "metadata": {},
   "outputs": [],
   "source": [
    "d6 = {'number' : [2,34,3,34,34], \"assaignmaent\" : (1,2,3,4,5,6), 'launch_date' : {28,12,14}, \"class_time\" : {\"web_dev\": 8, \"java with dsa\": 3 ,\"data science\" : 3}}"
   ]
  },
  {
   "cell_type": "code",
   "execution_count": 18,
   "id": "e136f325-784f-4c12-b11f-453a7cf8b12d",
   "metadata": {},
   "outputs": [
    {
     "data": {
      "text/plain": [
       "{'number': [2, 34, 3, 34, 34],\n",
       " 'assaignmaent': (1, 2, 3, 4, 5, 6),\n",
       " 'launch_date': {12, 14, 28},\n",
       " 'class_time': {'web_dev': 8, 'java with dsa': 3, 'data science': 3}}"
      ]
     },
     "execution_count": 18,
     "metadata": {},
     "output_type": "execute_result"
    }
   ],
   "source": [
    "d6"
   ]
  },
  {
   "cell_type": "code",
   "execution_count": 19,
   "id": "52d68a77-0de1-4331-9019-f7748231ce67",
   "metadata": {},
   "outputs": [],
   "source": [
    " d6['mentor'] = ['mohammadjaid','owais', 'zakirhusen','zahid']"
   ]
  },
  {
   "cell_type": "code",
   "execution_count": 20,
   "id": "48773280-c7bd-4164-929a-aaeb083db6f3",
   "metadata": {},
   "outputs": [
    {
     "data": {
      "text/plain": [
       "{'number': [2, 34, 3, 34, 34],\n",
       " 'assaignmaent': (1, 2, 3, 4, 5, 6),\n",
       " 'launch_date': {12, 14, 28},\n",
       " 'class_time': {'web_dev': 8, 'java with dsa': 3, 'data science': 3},\n",
       " 'mentor': ['mohammadjaid', 'owais', 'zakirhusen', 'zahid']}"
      ]
     },
     "execution_count": 20,
     "metadata": {},
     "output_type": "execute_result"
    }
   ],
   "source": [
    "d6"
   ]
  },
  {
   "cell_type": "code",
   "execution_count": 21,
   "id": "11a7a030-dcd5-4e70-808c-419c26e4f13a",
   "metadata": {},
   "outputs": [],
   "source": [
    "del d6['number'] "
   ]
  },
  {
   "cell_type": "code",
   "execution_count": 22,
   "id": "181365d2-2a1a-42bc-b90f-e91502c5dca2",
   "metadata": {},
   "outputs": [
    {
     "data": {
      "text/plain": [
       "{'assaignmaent': (1, 2, 3, 4, 5, 6),\n",
       " 'launch_date': {12, 14, 28},\n",
       " 'class_time': {'web_dev': 8, 'java with dsa': 3, 'data science': 3},\n",
       " 'mentor': ['mohammadjaid', 'owais', 'zakirhusen', 'zahid']}"
      ]
     },
     "execution_count": 22,
     "metadata": {},
     "output_type": "execute_result"
    }
   ],
   "source": [
    "d6"
   ]
  },
  {
   "cell_type": "code",
   "execution_count": 23,
   "id": "9b88b014-c915-431d-96e8-d635d119c500",
   "metadata": {},
   "outputs": [
    {
     "data": {
      "text/plain": [
       "dict_keys(['assaignmaent', 'launch_date', 'class_time', 'mentor'])"
      ]
     },
     "execution_count": 23,
     "metadata": {},
     "output_type": "execute_result"
    }
   ],
   "source": [
    "d6.keys()"
   ]
  },
  {
   "cell_type": "code",
   "execution_count": 24,
   "id": "0bb4ca29-a636-4b16-8cf5-7f5ff31b59ad",
   "metadata": {},
   "outputs": [
    {
     "data": {
      "text/plain": [
       "dict_values([(1, 2, 3, 4, 5, 6), {28, 12, 14}, {'web_dev': 8, 'java with dsa': 3, 'data science': 3}, ['mohammadjaid', 'owais', 'zakirhusen', 'zahid']])"
      ]
     },
     "execution_count": 24,
     "metadata": {},
     "output_type": "execute_result"
    }
   ],
   "source": [
    "d6.values()"
   ]
  },
  {
   "cell_type": "code",
   "execution_count": 25,
   "id": "49137ed3-6601-4076-973c-ccd5dab5af9e",
   "metadata": {},
   "outputs": [
    {
     "data": {
      "text/plain": [
       "dict_items([('assaignmaent', (1, 2, 3, 4, 5, 6)), ('launch_date', {28, 12, 14}), ('class_time', {'web_dev': 8, 'java with dsa': 3, 'data science': 3}), ('mentor', ['mohammadjaid', 'owais', 'zakirhusen', 'zahid'])])"
      ]
     },
     "execution_count": 25,
     "metadata": {},
     "output_type": "execute_result"
    }
   ],
   "source": [
    "d6.items()"
   ]
  },
  {
   "cell_type": "code",
   "execution_count": 26,
   "id": "9a2a4fa3-4ff9-4ede-992a-650668ab1acd",
   "metadata": {},
   "outputs": [
    {
     "data": {
      "text/plain": [
       "[('assaignmaent', (1, 2, 3, 4, 5, 6)),\n",
       " ('launch_date', {12, 14, 28}),\n",
       " ('class_time', {'web_dev': 8, 'java with dsa': 3, 'data science': 3}),\n",
       " ('mentor', ['mohammadjaid', 'owais', 'zakirhusen', 'zahid'])]"
      ]
     },
     "execution_count": 26,
     "metadata": {},
     "output_type": "execute_result"
    }
   ],
   "source": [
    "list(d6.items())"
   ]
  },
  {
   "cell_type": "code",
   "execution_count": 27,
   "id": "213089ed-2caa-40be-9821-6a2f7de40444",
   "metadata": {},
   "outputs": [
    {
     "data": {
      "text/plain": [
       "(1, 2, 3, 4, 5, 6)"
      ]
     },
     "execution_count": 27,
     "metadata": {},
     "output_type": "execute_result"
    }
   ],
   "source": [
    "d6.pop('assaignmaent')"
   ]
  },
  {
   "cell_type": "code",
   "execution_count": 28,
   "id": "34b4320d-fc9b-4351-91b3-af9ee5435c5a",
   "metadata": {},
   "outputs": [
    {
     "ename": "TypeError",
     "evalue": "pop expected at least 1 argument, got 0",
     "output_type": "error",
     "traceback": [
      "\u001b[0;31m---------------------------------------------------------------------------\u001b[0m",
      "\u001b[0;31mTypeError\u001b[0m                                 Traceback (most recent call last)",
      "Cell \u001b[0;32mIn[28], line 1\u001b[0m\n\u001b[0;32m----> 1\u001b[0m \u001b[43md6\u001b[49m\u001b[38;5;241;43m.\u001b[39;49m\u001b[43mpop\u001b[49m\u001b[43m(\u001b[49m\u001b[43m)\u001b[49m\n",
      "\u001b[0;31mTypeError\u001b[0m: pop expected at least 1 argument, got 0"
     ]
    }
   ],
   "source": [
    "d6.pop()"
   ]
  },
  {
   "cell_type": "code",
   "execution_count": null,
   "id": "89844b9c-1b84-4b35-aec9-187cd0315eb1",
   "metadata": {},
   "outputs": [],
   "source": [
    "marks = 65\n",
    "if marks >= 80 :\n",
    "    print(\"you will be part of A1 batch\")\n",
    "elif marks >= 60 and marks< 80:\n",
    "    print(\"you will be part of A2 batch\")\n",
    "elif marks >= 40 and marks < 60 :\n",
    "    print(\"you will be part of A3 batch\")\n",
    "else :\n",
    "    print(\"you will be part of A4 batch\")"
   ]
  },
  {
   "cell_type": "code",
   "execution_count": 29,
   "id": "320ca962-5d90-4e76-8fae-0f1bb6bb6f67",
   "metadata": {},
   "outputs": [
    {
     "data": {
      "text/plain": [
       "False"
      ]
     },
     "execution_count": 29,
     "metadata": {},
     "output_type": "execute_result"
    }
   ],
   "source": [
    "65>= 80"
   ]
  },
  {
   "cell_type": "code",
   "execution_count": 30,
   "id": "17e899a8-2644-4917-af0f-06ca51a620fd",
   "metadata": {},
   "outputs": [
    {
     "name": "stdout",
     "output_type": "stream",
     "text": [
      "you will be part of A4 batch\n"
     ]
    }
   ],
   "source": [
    "marks = 10\n",
    "if marks >= 80 :\n",
    "    print(\"you will be part of A1 batch\")\n",
    "elif marks >= 60 and marks< 80:\n",
    "    print(\"you will be part of A2 batch\")\n",
    "elif marks >= 40 and marks < 60 :\n",
    "    print(\"you will be part of A3 batch\")\n",
    "else :\n",
    "    print(\"you will be part of A4 batch\")"
   ]
  },
  {
   "cell_type": "code",
   "execution_count": 31,
   "id": "92eb47bf-4102-4470-932f-52a3c6909fbc",
   "metadata": {},
   "outputs": [
    {
     "data": {
      "text/plain": [
       "False"
      ]
     },
     "execution_count": 31,
     "metadata": {},
     "output_type": "execute_result"
    }
   ],
   "source": [
    "10>= 80"
   ]
  },
  {
   "cell_type": "code",
   "execution_count": 2,
   "id": "08a5ce0e-d028-4f13-9085-3afb8fda1edd",
   "metadata": {},
   "outputs": [
    {
     "name": "stdin",
     "output_type": "stream",
     "text": [
      "enter your marks 90\n"
     ]
    },
    {
     "name": "stdout",
     "output_type": "stream",
     "text": [
      "you will be part of A1 batch\n"
     ]
    }
   ],
   "source": [
    "marks = int(input(\"enter your marks\"))\n",
    "if marks >= 80 :\n",
    "    print(\"you will be part of A1 batch\")\n",
    "elif marks >= 60 and marks< 80:\n",
    "    print(\"you will be part of A2 batch\")\n",
    "elif marks >= 40 and marks < 60 :\n",
    "    print(\"you will be part of A3 batch\")\n",
    "else :\n",
    "    print(\"you will be part of A4 batch\")"
   ]
  },
  {
   "cell_type": "code",
   "execution_count": 3,
   "id": "5e1a0e41-de54-4300-a343-741c5402067f",
   "metadata": {},
   "outputs": [
    {
     "data": {
      "text/plain": [
       "False"
      ]
     },
     "execution_count": 3,
     "metadata": {},
     "output_type": "execute_result"
    }
   ],
   "source": [
    "10>= 80"
   ]
  },
  {
   "cell_type": "code",
   "execution_count": 4,
   "id": "e420c8e9-640e-49db-8250-9c828c91cac3",
   "metadata": {},
   "outputs": [
    {
     "name": "stdin",
     "output_type": "stream",
     "text": [
      "enter your marks 90\n"
     ]
    }
   ],
   "source": [
    "marks = int(input(\"enter your marks\"))"
   ]
  },
  {
   "cell_type": "code",
   "execution_count": 5,
   "id": "8c83ff0e-f55f-47de-98a9-72ee0584cba8",
   "metadata": {},
   "outputs": [
    {
     "data": {
      "text/plain": [
       "90"
      ]
     },
     "execution_count": 5,
     "metadata": {},
     "output_type": "execute_result"
    }
   ],
   "source": [
    "marks"
   ]
  },
  {
   "cell_type": "code",
   "execution_count": 6,
   "id": "805ca86b-d708-4c37-a55d-245a88f8af0a",
   "metadata": {},
   "outputs": [
    {
     "data": {
      "text/plain": [
       "int"
      ]
     },
     "execution_count": 6,
     "metadata": {},
     "output_type": "execute_result"
    }
   ],
   "source": [
    "type(marks)"
   ]
  },
  {
   "cell_type": "code",
   "execution_count": null,
   "id": "b8d05f9d-091d-4e81-bd1a-8ffaf0c5582a",
   "metadata": {},
   "outputs": [],
   "source": [
    "price = int(input(\"enter price\"))\n",
    "if price > 1000:\n",
    "    print(\"i will not purchase\")\n",
    "else :\n",
    "    print(\"i  will purchase\")"
   ]
  },
  {
   "cell_type": "code",
   "execution_count": 13,
   "id": "67721e36-a3bf-4b20-a629-4f47db86ef19",
   "metadata": {},
   "outputs": [
    {
     "name": "stdin",
     "output_type": "stream",
     "text": [
      "enter price 200\n"
     ]
    }
   ],
   "source": [
    "price = int(input(\"enter price\"))\n",
    "if price > 1000:\n",
    "    print(\"i will not purchase\")"
   ]
  },
  {
   "cell_type": "code",
   "execution_count": null,
   "id": "3708b3ed-6bbc-460d-9022-dac027e5e8a2",
   "metadata": {},
   "outputs": [],
   "source": [
    "price = int(input(\"enter price\"))\n",
    "if price > 1000:\n",
    "    print(\"i will not purchase\")\n",
    "    if price > 5000:\n",
    "        print(\"this is too much\")"
   ]
  },
  {
   "cell_type": "code",
   "execution_count": 4,
   "id": "cfe101ee-fd7f-4ecb-854c-9756bb8447fc",
   "metadata": {},
   "outputs": [
    {
     "name": "stdin",
     "output_type": "stream",
     "text": [
      "enter price 1500\n"
     ]
    },
    {
     "name": "stdout",
     "output_type": "stream",
     "text": [
      "i will not purchase\n",
      "its ok\n"
     ]
    }
   ],
   "source": [
    "price = int(input(\"enter price\"))\n",
    "if price > 1000:\n",
    "    print(\"i will not purchase\")\n",
    "    if price > 5000:\n",
    "        print(\"this is too much\")\n",
    "    elif price < 2000 :\n",
    "        print(\"its ok\")\n",
    "else :\n",
    "    print(\"not interested \")\n",
    "    print(\"i will not purchase\")\n",
    "    if price >5000 :\n",
    "        print(\"this is too much\")\n",
    "    elif price > 2000 :\n",
    "        print(\"its ok\")"
   ]
  },
  {
   "cell_type": "code",
   "execution_count": 12,
   "id": "60257d3b-7467-4840-873b-927fcca6d175",
   "metadata": {},
   "outputs": [],
   "source": [
    "I = [1,2,3,4,5,6,7,8]"
   ]
  },
  {
   "cell_type": "code",
   "execution_count": 13,
   "id": "799cac58-68b5-4eee-8fc2-2a74de094091",
   "metadata": {},
   "outputs": [
    {
     "data": {
      "text/plain": [
       "2"
      ]
     },
     "execution_count": 13,
     "metadata": {},
     "output_type": "execute_result"
    }
   ],
   "source": [
    "I[0] + 1"
   ]
  },
  {
   "cell_type": "code",
   "execution_count": 14,
   "id": "b4d4be6c-a3ed-456e-933d-84eb56a8f09f",
   "metadata": {},
   "outputs": [],
   "source": [
    "II = []"
   ]
  },
  {
   "cell_type": "code",
   "execution_count": 15,
   "id": "c75e96af-54d4-430f-accc-dcb6c0502570",
   "metadata": {},
   "outputs": [],
   "source": [
    "II.append(I[0] + 1)"
   ]
  },
  {
   "cell_type": "code",
   "execution_count": 16,
   "id": "08244ef0-7f1a-4562-86da-e6c89536c041",
   "metadata": {},
   "outputs": [
    {
     "data": {
      "text/plain": [
       "[2]"
      ]
     },
     "execution_count": 16,
     "metadata": {},
     "output_type": "execute_result"
    }
   ],
   "source": [
    "II"
   ]
  },
  {
   "cell_type": "code",
   "execution_count": 17,
   "id": "9479b18d-b920-4d51-81fa-e7c05ad6d09a",
   "metadata": {},
   "outputs": [
    {
     "data": {
      "text/plain": [
       "4"
      ]
     },
     "execution_count": 17,
     "metadata": {},
     "output_type": "execute_result"
    }
   ],
   "source": [
    "I[1] + 2"
   ]
  },
  {
   "cell_type": "code",
   "execution_count": 45,
   "id": "2c620c0f-73f6-4191-bd03-ae84846b2fc4",
   "metadata": {},
   "outputs": [],
   "source": [
    "II = []"
   ]
  },
  {
   "cell_type": "code",
   "execution_count": 46,
   "id": "7fb744c7-96eb-4087-b8ef-7e733acdc8cb",
   "metadata": {},
   "outputs": [],
   "source": [
    "II.append(I[1] + 2)"
   ]
  },
  {
   "cell_type": "code",
   "execution_count": 47,
   "id": "329f0272-7c41-4f4b-ab5f-cfcc6adefc8d",
   "metadata": {},
   "outputs": [
    {
     "data": {
      "text/plain": [
       "[4]"
      ]
     },
     "execution_count": 47,
     "metadata": {},
     "output_type": "execute_result"
    }
   ],
   "source": [
    "II"
   ]
  },
  {
   "cell_type": "code",
   "execution_count": 48,
   "id": "db0b9bad-d937-424c-9fd8-8f31371acbc7",
   "metadata": {},
   "outputs": [],
   "source": [
    "I = [1,2,3,4,5,6,7,8]"
   ]
  },
  {
   "cell_type": "code",
   "execution_count": 68,
   "id": "86728c4c-ca30-4dc8-8425-b6dfe33db0e1",
   "metadata": {},
   "outputs": [
    {
     "name": "stdout",
     "output_type": "stream",
     "text": [
      "2\n",
      "3\n",
      "4\n",
      "5\n",
      "6\n",
      "7\n",
      "8\n",
      "9\n"
     ]
    },
    {
     "data": {
      "text/plain": [
       "[2, 3, 4, 5, 6, 7, 8, 9]"
      ]
     },
     "execution_count": 68,
     "metadata": {},
     "output_type": "execute_result"
    }
   ],
   "source": [
    "Il = []\n",
    "for i in I:\n",
    "    print(i+1)\n",
    "    Il.append(i+1)\n",
    "Il"
   ]
  },
  {
   "cell_type": "code",
   "execution_count": 70,
   "id": "a59625a2-1177-4808-8304-a2b41d4735ba",
   "metadata": {},
   "outputs": [
    {
     "data": {
      "text/plain": [
       "[1, 2, 3, 4, 5, 6, 7, 8]"
      ]
     },
     "execution_count": 70,
     "metadata": {},
     "output_type": "execute_result"
    }
   ],
   "source": [
    "I"
   ]
  },
  {
   "cell_type": "code",
   "execution_count": 71,
   "id": "d9e4ee7c-8243-4508-af66-2ba56f8780e6",
   "metadata": {},
   "outputs": [],
   "source": [
    "I = [\"mohammadjaid\" , \"pattekari\" , \"pwskills\" , \"course\"]"
   ]
  },
  {
   "cell_type": "code",
   "execution_count": 76,
   "id": "c541e414-161b-41c4-a3ce-c2003b09d72d",
   "metadata": {},
   "outputs": [
    {
     "name": "stdout",
     "output_type": "stream",
     "text": [
      "mohammadjaid\n",
      "pattekari\n",
      "pwskills\n",
      "course\n"
     ]
    }
   ],
   "source": [
    "Il = []\n",
    "for i in I:\n",
    "    print(i)\n",
    "    Il.append(i.upper())"
   ]
  },
  {
   "cell_type": "code",
   "execution_count": 77,
   "id": "57d76550-9762-454d-8352-07ef24bb4f5f",
   "metadata": {},
   "outputs": [
    {
     "data": {
      "text/plain": [
       "['MOHAMMADJAID', 'PATTEKARI', 'PWSKILLS', 'COURSE']"
      ]
     },
     "execution_count": 77,
     "metadata": {},
     "output_type": "execute_result"
    }
   ],
   "source": [
    "Il"
   ]
  },
  {
   "cell_type": "code",
   "execution_count": 78,
   "id": "bdc23e99-0608-496b-aad2-1a1041e178f3",
   "metadata": {},
   "outputs": [],
   "source": [
    "I = [1,2,3,4,4,\"mohammadjaid\" , \"pattekari\" , 345,34.456,\"abc\"]"
   ]
  },
  {
   "cell_type": "code",
   "execution_count": 85,
   "id": "2543d044-c967-4233-9bdd-c1662bc05393",
   "metadata": {},
   "outputs": [],
   "source": [
    "I1_num = []\n",
    "I2_str = []\n",
    "for i in I :\n",
    "    if type(i) == int or type(i) == float :\n",
    "        I1_num.append(i)\n",
    "    else:\n",
    "        I2_str.append(i)"
   ]
  },
  {
   "cell_type": "code",
   "execution_count": 86,
   "id": "f8cc5019-5966-4aeb-beb6-d346be6b9889",
   "metadata": {},
   "outputs": [
    {
     "data": {
      "text/plain": [
       "[1, 2, 3, 4, 4, 345, 34.456]"
      ]
     },
     "execution_count": 86,
     "metadata": {},
     "output_type": "execute_result"
    }
   ],
   "source": [
    "I1_num"
   ]
  },
  {
   "cell_type": "code",
   "execution_count": 87,
   "id": "36ad9ec6-6fe7-498a-975f-858f7808e713",
   "metadata": {},
   "outputs": [
    {
     "data": {
      "text/plain": [
       "['mohammadjaid', 'pattekari', 'abc']"
      ]
     },
     "execution_count": 87,
     "metadata": {},
     "output_type": "execute_result"
    }
   ],
   "source": [
    "I2_str"
   ]
  },
  {
   "cell_type": "code",
   "execution_count": null,
   "id": "93b33f92-7fba-461c-a751-95070d5eb0ff",
   "metadata": {},
   "outputs": [],
   "source": []
  }
 ],
 "metadata": {
  "kernelspec": {
   "display_name": "Python 3 (ipykernel)",
   "language": "python",
   "name": "python3"
  },
  "language_info": {
   "codemirror_mode": {
    "name": "ipython",
    "version": 3
   },
   "file_extension": ".py",
   "mimetype": "text/x-python",
   "name": "python",
   "nbconvert_exporter": "python",
   "pygments_lexer": "ipython3",
   "version": "3.10.8"
  }
 },
 "nbformat": 4,
 "nbformat_minor": 5
}
